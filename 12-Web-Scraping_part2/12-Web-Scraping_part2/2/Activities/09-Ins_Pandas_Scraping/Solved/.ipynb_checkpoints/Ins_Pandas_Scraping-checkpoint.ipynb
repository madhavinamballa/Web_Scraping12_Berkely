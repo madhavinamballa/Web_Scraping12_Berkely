{
 "cells": [
  {
   "cell_type": "markdown",
   "metadata": {
    "slideshow": {
     "slide_type": "slide"
    }
   },
   "source": [
    "# Scraping with Pandas"
   ]
  },
  {
   "cell_type": "code",
   "execution_count": 1,
   "metadata": {
    "slideshow": {
     "slide_type": "slide"
    }
   },
   "outputs": [],
   "source": [
    "import pandas as pd"
   ]
  },
  {
   "cell_type": "markdown",
   "metadata": {
    "slideshow": {
     "slide_type": "subslide"
    }
   },
   "source": [
    "We can use the `read_html` function in Pandas to automatically scrape any tabular data from a page."
   ]
  },
  {
   "cell_type": "code",
   "execution_count": 2,
   "metadata": {
    "slideshow": {
     "slide_type": "fragment"
    }
   },
   "outputs": [],
   "source": [
    "url = 'https://en.wikipedia.org/wiki/List_of_capitals_in_the_United_States'"
   ]
  },
  {
   "cell_type": "code",
   "execution_count": 3,
   "metadata": {
    "slideshow": {
     "slide_type": "fragment"
    }
   },
   "outputs": [
    {
     "data": {
      "text/plain": [
       "[             State Abr. State-hood         Capital Capital since Area (mi²)  \\\n",
       "              State Abr. State-hood         Capital Capital since Area (mi²)   \n",
       " 0          Alabama   AL       1819      Montgomery          1846     159.80   \n",
       " 1           Alaska   AK       1959          Juneau          1906    2716.70   \n",
       " 2          Arizona   AZ       1912         Phoenix          1889     517.60   \n",
       " 3         Arkansas   AR       1836     Little Rock          1821     116.20   \n",
       " 4       California   CA       1850      Sacramento          1854      97.90   \n",
       " 5         Colorado   CO       1876          Denver          1867     153.30   \n",
       " 6      Connecticut   CT       1788        Hartford          1875      17.30   \n",
       " 7         Delaware   DE       1787           Dover          1777      22.40   \n",
       " 8          Florida   FL       1845     Tallahassee          1824      95.70   \n",
       " 9          Georgia   GA       1788         Atlanta          1868     133.50   \n",
       " 10          Hawaii   HI       1959        Honolulu          1845      68.40   \n",
       " 11           Idaho   ID       1890           Boise          1865      63.80   \n",
       " 12        Illinois   IL       1818     Springfield          1837      54.00   \n",
       " 13         Indiana   IN       1816    Indianapolis          1825     361.50   \n",
       " 14            Iowa   IA       1846      Des Moines          1857      75.80   \n",
       " 15          Kansas   KS       1861          Topeka          1856      56.00   \n",
       " 16        Kentucky   KY       1792       Frankfort          1792      14.70   \n",
       " 17       Louisiana   LA       1812     Baton Rouge          1880      76.80   \n",
       " 18           Maine   ME       1820         Augusta          1832      55.40   \n",
       " 19        Maryland   MD       1788       Annapolis          1694       6.73   \n",
       " 20   Massachusetts   MA       1788          Boston          1630      89.60   \n",
       " 21        Michigan   MI       1837         Lansing          1847      35.00   \n",
       " 22       Minnesota   MN       1858      Saint Paul          1849      52.80   \n",
       " 23     Mississippi   MS       1817         Jackson          1821     104.90   \n",
       " 24        Missouri   MO       1821  Jefferson City          1826      27.30   \n",
       " 25         Montana   MT       1889          Helena          1875      14.00   \n",
       " 26        Nebraska   NE       1867         Lincoln          1867      74.60   \n",
       " 27          Nevada   NV       1864     Carson City          1861     143.40   \n",
       " 28   New Hampshire   NH       1788         Concord          1808      64.30   \n",
       " 29      New Jersey   NJ       1787         Trenton          1784       7.66   \n",
       " 30      New Mexico   NM       1912        Santa Fe          1610      37.30   \n",
       " 31        New York   NY       1788          Albany          1797      21.40   \n",
       " 32  North Carolina   NC       1789         Raleigh          1792     114.60   \n",
       " 33    North Dakota   ND       1889        Bismarck          1883      26.90   \n",
       " 34            Ohio   OH       1803        Columbus          1816     210.30   \n",
       " 35        Oklahoma   OK       1907   Oklahoma City          1910     620.30   \n",
       " 36          Oregon   OR       1859           Salem          1855      45.70   \n",
       " 37    Pennsylvania   PA       1787      Harrisburg          1812       8.11   \n",
       " 38    Rhode Island   RI       1790      Providence          1900      18.50   \n",
       " 39  South Carolina   SC       1788        Columbia          1786     125.20   \n",
       " 40    South Dakota   SD       1889          Pierre          1889      13.00   \n",
       " 41       Tennessee   TN       1796       Nashville          1826     525.90   \n",
       " 42           Texas   TX       1845          Austin          1839     305.10   \n",
       " 43            Utah   UT       1896  Salt Lake City          1858     109.10   \n",
       " 44         Vermont   VT       1791      Montpelier          1805      10.20   \n",
       " 45        Virginia   VA       1788        Richmond          1780      60.10   \n",
       " 46      Washington   WA       1889         Olympia          1853      16.70   \n",
       " 47   West Virginia   WV       1863      Charleston          1885      31.60   \n",
       " 48       Wisconsin   WI       1848         Madison          1838      68.70   \n",
       " 49         Wyoming   WY       1890        Cheyenne          1869      21.10   \n",
       " \n",
       "                            Population (2010)  \\\n",
       "    Municipal (Within city proper boundaries)   \n",
       " 0                                     198218   \n",
       " 1                                      31275   \n",
       " 2                                    1660272   \n",
       " 3                                     193524   \n",
       " 4                                     508529   \n",
       " 5                                     716492   \n",
       " 6                                     124775   \n",
       " 7                                      36047   \n",
       " 8                                     181376   \n",
       " 9                                     498044   \n",
       " 10                                    359870   \n",
       " 11                                    205671   \n",
       " 12                                    116250   \n",
       " 13                                    867125   \n",
       " 14                                    203433   \n",
       " 15                                    127473   \n",
       " 16                                     25527   \n",
       " 17                                    225374   \n",
       " 18                                     19136   \n",
       " 19                                     38394   \n",
       " 20                                    694583   \n",
       " 21                                    114297   \n",
       " 22                                    285068   \n",
       " 23                                    173514   \n",
       " 24                                     43079   \n",
       " 25                                     28190   \n",
       " 26                                    258379   \n",
       " 27                                     55274   \n",
       " 28                                     42695   \n",
       " 29                                     84913   \n",
       " 30                                     75764   \n",
       " 31                                     97856   \n",
       " 32                                    403892   \n",
       " 33                                     61272   \n",
       " 34                                    892553   \n",
       " 35                                    649021   \n",
       " 36                                    154637   \n",
       " 37                                     49528   \n",
       " 38                                    178042   \n",
       " 39                                    129272   \n",
       " 40                                     13646   \n",
       " 41                                    691243   \n",
       " 42                                    964254   \n",
       " 43                                    186440   \n",
       " 44                                      7855   \n",
       " 45                                    204214   \n",
       " 46                                     46478   \n",
       " 47                                     51400   \n",
       " 48                                    233209   \n",
       " 49                                     59466   \n",
       " \n",
       "                                                                                                    \\\n",
       "    Metropolitan (Both within the capital city proper and the surrounding area of the city proper)   \n",
       " 0                                            373903.0                                               \n",
       " 1                                                 NaN                                               \n",
       " 2                                           4857962.0                                               \n",
       " 3                                            699757.0                                               \n",
       " 4                                           2345210.0                                               \n",
       " 5                                           2932415.0                                               \n",
       " 6                                           1212381.0                                               \n",
       " 7                                            162310.0                                               \n",
       " 8                                            367413.0                                               \n",
       " 9                                           5949951.0                                               \n",
       " 10                                           953207.0                                               \n",
       " 11                                           616561.0                                               \n",
       " 12                                           210170.0                                               \n",
       " 13                                          2004230.0                                               \n",
       " 14                                           569633.0                                               \n",
       " 15                                           230870.0                                               \n",
       " 16                                            70758.0                                               \n",
       " 17                                           830480.0                                               \n",
       " 18                                           117114.0                                               \n",
       " 19                                                NaN                                               \n",
       " 20                                          4628910.0                                               \n",
       " 21                                           464036.0                                               \n",
       " 22                                          3348659.0                                               \n",
       " 23                                           567122.0                                               \n",
       " 24                                           149807.0                                               \n",
       " 25                                            74801.0                                               \n",
       " 26                                           302157.0                                               \n",
       " 27                                                NaN                                               \n",
       " 28                                           146445.0                                               \n",
       " 29                                           366513.0                                               \n",
       " 30                                           183732.0                                               \n",
       " 31                                           857592.0                                               \n",
       " 32                                          1130490.0                                               \n",
       " 33                                           108779.0                                               \n",
       " 34                                          2078725.0                                               \n",
       " 35                                          1396445.0                                               \n",
       " 36                                           390738.0                                               \n",
       " 37                                           647390.0                                               \n",
       " 38                                          1600852.0                                               \n",
       " 39                                           767598.0                                               \n",
       " 40                                                NaN                                               \n",
       " 41                                          1903045.0                                               \n",
       " 42                                          2168316.0                                               \n",
       " 43                                          1087873.0                                               \n",
       " 44                                                NaN                                               \n",
       " 45                                          1208101.0                                               \n",
       " 46                                           234670.0                                               \n",
       " 47                                           304214.0                                               \n",
       " 48                                           605435.0                                               \n",
       " 49                                            91738.0                                               \n",
       " \n",
       "                                                                          Notes  \n",
       "    Rank in state Rank in US                                              Notes  \n",
       " 0              2      119.0            Birmingham is the state's largest city.  \n",
       " 1              3        NaN            Largest capital by municipal land area.  \n",
       " 2              1        5.0  Phoenix is the most populous capital city in t...  \n",
       " 3              1      117.0                                                NaN  \n",
       " 4              6       35.0                                                NaN  \n",
       " 5              1       19.0                                                NaN  \n",
       " 6              3      199.0                                                NaN  \n",
       " 7              2        NaN     Longest-serving capital in terms of statehood.  \n",
       " 8              7      125.0                                                NaN  \n",
       " 9              1       37.0     Most populous metro area of any state capital.  \n",
       " 10             1       56.0                                                NaN  \n",
       " 11             1      103.0                                                NaN  \n",
       " 12             6      221.0                                                NaN  \n",
       " 13             1       16.0                                                NaN  \n",
       " 14             1      105.0                                                NaN  \n",
       " 15             4      193.0                                                NaN  \n",
       " 16            14        NaN                                                NaN  \n",
       " 17             2       99.0  Baton Rouge is located in the state's most pop...  \n",
       " 18             8        NaN                    Portland is a previous capital.  \n",
       " 19             7        NaN  Smallest capital by land area. Capitol buildin...  \n",
       " 20             1       21.0   Longest continuously serving capital in the U.S.  \n",
       " 21             5      226.0  Only state capital that is not also its county...  \n",
       " 22             2       67.0                                                NaN  \n",
       " 23             1      134.0                                                NaN  \n",
       " 24            15        NaN                                                NaN  \n",
       " 25             6        NaN                                                NaN  \n",
       " 26             2       72.0                                                NaN  \n",
       " 27             6        NaN  One of two independent cities that serves as a...  \n",
       " 28             3        NaN                                                NaN  \n",
       " 29            10        NaN  Served as the U.S. capital for a short period ...  \n",
       " 30             4        NaN  Longest serving capital in the United States. ...  \n",
       " 31             6        NaN                                                NaN  \n",
       " 32             2       43.0                                                NaN  \n",
       " 33             2        NaN                                                NaN  \n",
       " 34             1       14.0  Columbus is the largest city in Ohio, the seco...  \n",
       " 35             1       27.0            Shortest serving current state capital.  \n",
       " 36             3      149.0                                                NaN  \n",
       " 37             9        NaN                                                NaN  \n",
       " 38             1      130.0  Also served as the state's capital 1636–1686 a...  \n",
       " 39             2      191.0                                                NaN  \n",
       " 40             8        NaN                                                NaN  \n",
       " 41             1       24.0                                                NaN  \n",
       " 42             4       11.0  Austin is the largest state capital that is no...  \n",
       " 43             1      124.0                                                NaN  \n",
       " 44             6        NaN                 Least populous U.S. state capital.  \n",
       " 45             4      104.0  Richmond is one of two independent cities that...  \n",
       " 46            24        NaN                                                NaN  \n",
       " 47             1        NaN  Charleston is the smallest capital city that i...  \n",
       " 48             2       82.0                                                NaN  \n",
       " 49             1        NaN                                                NaN  ,\n",
       "                Insular area Abr.  Date           Capital  Population (2010)  \\\n",
       " 0            American Samoa   AS  1899         Pago Pago               3656   \n",
       " 1                      Guam   GU  1898           Hagåtña               1051   \n",
       " 2  Northern Mariana Islands   MP  1947            Saipan              48220   \n",
       " 3               Puerto Rico   PR  1898          San Juan             395326   \n",
       " 4       U.S. Virgin Islands   VI  1917  Charlotte Amalie              18481   \n",
       " \n",
       "                                                Notes  \n",
       " 0  Pago Pago refers to both a village and a group...  \n",
       " 1              Dededo is the area's largest village.  \n",
       " 2                                                NaN  \n",
       " 3  The city of San Juan was originally called Pue...  \n",
       " 4                                                NaN  ,\n",
       "                                State                                  Capital  \\\n",
       " 0       Alabama[16]Statehood in 1819                              San Agustín   \n",
       " 1       Alabama[16]Statehood in 1819                                 Savannah   \n",
       " 2       Alabama[16]Statehood in 1819                                 Savannah   \n",
       " 3       Alabama[16]Statehood in 1819                                 Savannah   \n",
       " 4       Alabama[16]Statehood in 1819                             Augusta (GA)   \n",
       " 5       Alabama[16]Statehood in 1819                        Heard's Fort (GA)   \n",
       " 6       Alabama[16]Statehood in 1819                             Augusta (GA)   \n",
       " 7       Alabama[16]Statehood in 1819                            Savannah (GA)   \n",
       " 8       Alabama[16]Statehood in 1819                            Ebenezer (GA)   \n",
       " 9       Alabama[16]Statehood in 1819                            Savannah (GA)   \n",
       " 10      Alabama[16]Statehood in 1819                             Augusta (GA)   \n",
       " 11      Alabama[16]Statehood in 1819                          Louisville (GA)   \n",
       " 12      Alabama[16]Statehood in 1819                             Natchez (MS)   \n",
       " 13      Alabama[16]Statehood in 1819                          Washington (MS)   \n",
       " 14      Alabama[16]Statehood in 1819                             St. Stephens   \n",
       " 15      Alabama[16]Statehood in 1819                               Huntsville   \n",
       " 16      Alabama[16]Statehood in 1819                                  Cahawba   \n",
       " 17      Alabama[16]Statehood in 1819                               Tuscaloosa   \n",
       " 18      Alabama[16]Statehood in 1819                               Montgomery   \n",
       " 19       Alaska[18]Statehood in 1959                    Novo-ArkhangelskSitka   \n",
       " 20       Alaska[18]Statehood in 1959                    Novo-ArkhangelskSitka   \n",
       " 21       Alaska[18]Statehood in 1959                    Novo-ArkhangelskSitka   \n",
       " 22       Alaska[18]Statehood in 1959                                   Juneau   \n",
       " 23       Alaska[18]Statehood in 1959                                   Juneau   \n",
       " 24       Alaska[18]Statehood in 1959                                   Juneau   \n",
       " 25      Arizona[19]Statehood in 1912                            Santa Fe (NM)   \n",
       " 26      Arizona[19]Statehood in 1912                            Santa Fe (NM)   \n",
       " 27      Arizona[19]Statehood in 1912                             Mesilla (NM)   \n",
       " 28      Arizona[19]Statehood in 1912                         San Antonio (TX)   \n",
       " 29      Arizona[19]Statehood in 1912                             Fort Whipple   \n",
       " ..                               ...                                      ...   \n",
       " 444    Virginia[48]Statehood in 1776            Middle PlantationWilliamsburg   \n",
       " 445    Virginia[48]Statehood in 1776                                 Richmond   \n",
       " 446  Washington[49]Statehood in 1889                            Champoeg (OR)   \n",
       " 447  Washington[49]Statehood in 1889                         Oregon City (OR)   \n",
       " 448  Washington[49]Statehood in 1889                         Oregon City (OR)   \n",
       " 449  Washington[49]Statehood in 1889                               Salem (OR)   \n",
       " 450  Washington[49]Statehood in 1889                                  Olympia   \n",
       " 451  Washington[49]Statehood in 1889                                  Olympia   \n",
       " 452   West VirginiaStatehood in 1863                           Jamestown (VA)   \n",
       " 453   West VirginiaStatehood in 1863  Middle Plantation (VA)Williamsburg (VA)   \n",
       " 454   West VirginiaStatehood in 1863  Middle Plantation (VA)Williamsburg (VA)   \n",
       " 455   West VirginiaStatehood in 1863  Middle Plantation (VA)Williamsburg (VA)   \n",
       " 456   West VirginiaStatehood in 1863                            Richmond (VA)   \n",
       " 457   West VirginiaStatehood in 1863                                 Wheeling   \n",
       " 458   West VirginiaStatehood in 1863                                 Wheeling   \n",
       " 459   West VirginiaStatehood in 1863                               Charleston   \n",
       " 460   West VirginiaStatehood in 1863                                 Wheeling   \n",
       " 461   West VirginiaStatehood in 1863                               Charleston   \n",
       " 462   Wisconsin[50]Statehood in 1848                            Marietta (OH)   \n",
       " 463   Wisconsin[50]Statehood in 1848                           Vincennes (IN)   \n",
       " 464   Wisconsin[50]Statehood in 1848                           Kaskaskia (IL)   \n",
       " 465   Wisconsin[50]Statehood in 1848                             Detroit (MI)   \n",
       " 466   Wisconsin[50]Statehood in 1848                                  Belmont   \n",
       " 467   Wisconsin[50]Statehood in 1848                          Burlington (IA)   \n",
       " 468   Wisconsin[50]Statehood in 1848                                  Madison   \n",
       " 469   Wisconsin[50]Statehood in 1848                                  Madison   \n",
       " 470     Wyoming[51]Statehood in 1890                            Lewiston (ID)   \n",
       " 471     Wyoming[51]Statehood in 1890                             Yankton (SD)   \n",
       " 472     Wyoming[51]Statehood in 1890                                 Cheyenne   \n",
       " 473     Wyoming[51]Statehood in 1890                                 Cheyenne   \n",
       " \n",
       "      Date                                              Notes  \n",
       " 0    1565   Capital of the Spanish colony of La Florida.[17]  \n",
       " 1    1733  Capital of the British proprietary Colony of G...  \n",
       " 2    1755        Capital of the British Province of Georgia.  \n",
       " 3    1776                  Capitals of the State of Georgia.  \n",
       " 4    1778                  Capitals of the State of Georgia.  \n",
       " 5    1780                  Capitals of the State of Georgia.  \n",
       " 6    1781                  Capitals of the State of Georgia.  \n",
       " 7    1782                  Capitals of the State of Georgia.  \n",
       " 8    1782                  Capitals of the State of Georgia.  \n",
       " 9    1784                  Capitals of the State of Georgia.  \n",
       " 10   1786                  Capitals of the State of Georgia.  \n",
       " 11   1796                  Capitals of the State of Georgia.  \n",
       " 12   1798             Capitals of the Mississippi Territory.  \n",
       " 13   1802             Capitals of the Mississippi Territory.  \n",
       " 14   1817                  Capital of the Alabama Territory.  \n",
       " 15   1819                  Capitals of the State of Alabama.  \n",
       " 16   1820                  Capitals of the State of Alabama.  \n",
       " 17   1826                  Capitals of the State of Alabama.  \n",
       " 18   1846  Capital of the State of Alabama.(Capital of th...  \n",
       " 19   1808           Capital of the Russian colony of Alaska.  \n",
       " 20   1867               Capital of the Department of Alaska.  \n",
       " 21   1900                Capitals of the District of Alaska.  \n",
       " 22   1906                Capitals of the District of Alaska.  \n",
       " 23   1912                Capital of the Territory of Alaska.  \n",
       " 24   1959                    Capital of the State of Alaska.  \n",
       " 25   1848  Capital of the U.S. provisional government of ...  \n",
       " 26   1850  Capital of the U.S. Territory of New Mexico 18...  \n",
       " 27   1862  Capital of the Confederate Territory of Arizon...  \n",
       " 28   1862  Capital of the government-in-exile of the Conf...  \n",
       " 29   1864         Capitals of the U.S. Territory of Arizona.  \n",
       " ..    ...                                                ...  \n",
       " 444  1776           Capital of the Commonwealth of Virginia.  \n",
       " 445  1780  Capital of the Commonwealth of Virginia.(Capit...  \n",
       " 446  1843  Temporary capital of the disputed Oregon Country.  \n",
       " 447  1843  Capital of the Provisional Government of Orego...  \n",
       " 448  1848               Capitals of the Territory of Oregon.  \n",
       " 449  1851               Capitals of the Territory of Oregon.  \n",
       " 450  1853            Capital of the Territory of Washington.  \n",
       " 451  1889                Capital of the State of Washington.  \n",
       " 452  1619        Capitals of the English Colony of Virginia.  \n",
       " 453  1698        Capitals of the English Colony of Virginia.  \n",
       " 454  1707         Capital of the British Colony of Virginia.  \n",
       " 455  1776          Capitals of the Commonwealth of Virginia.  \n",
       " 456  1780          Capitals of the Commonwealth of Virginia.  \n",
       " 457  1861  Capital of the rival pro-Union government of t...  \n",
       " 458  1863            Capitals of the State of West Virginia.  \n",
       " 459  1870            Capitals of the State of West Virginia.  \n",
       " 460  1875            Capitals of the State of West Virginia.  \n",
       " 461  1885            Capitals of the State of West Virginia.  \n",
       " 462  1788  Capital of the Territory Northwest of the Rive...  \n",
       " 463  1800               Capital of the Territory of Indiana.  \n",
       " 464  1809              Capital of the Territory of Illinois.  \n",
       " 465  1818              Capital of the Territory of Michigan.  \n",
       " 466  1836            Capitals of the Territory of Wisconsin.  \n",
       " 467  1837            Capitals of the Territory of Wisconsin.  \n",
       " 468  1838            Capitals of the Territory of Wisconsin.  \n",
       " 469  1848                 Capital of the State of Wisconsin.  \n",
       " 470  1863                 Capital of the Territory of Idaho.  \n",
       " 471  1864                Capital of the Territory of Dakota.  \n",
       " 472  1869               Capital of the Territory of Wyoming.  \n",
       " 473  1890                   Capital of the State of Wyoming.  \n",
       " \n",
       " [474 rows x 4 columns],\n",
       "                             Links to related articles  \\\n",
       " 0   vteCapitals of the United States by jurisdicti...   \n",
       " 1    vteCapitals of the United States by jurisdiction   \n",
       " 2   Nation: US Washington States: AL Montgomery AK...   \n",
       " 3                vteUnited States state-related lists   \n",
       " 4   List of states and territories of the United S...   \n",
       " 5                                        Demographics   \n",
       " 6                                             Economy   \n",
       " 7                                         Environment   \n",
       " 8                                           Geography   \n",
       " 9                                          Government   \n",
       " 10                                             Health   \n",
       " 11                                            History   \n",
       " 12                                                Law   \n",
       " 13                                      Miscellaneous   \n",
       " 14                         Category  Commons  Portals   \n",
       " 15    vteLocation of the capital of the United States   \n",
       " 16                                 Temporary capitals   \n",
       " 17                                  Permanent capital   \n",
       " \n",
       "                           Links to related articles.1  \n",
       " 0   vteCapitals of the United States by jurisdicti...  \n",
       " 1    vteCapitals of the United States by jurisdiction  \n",
       " 2   Nation: US Washington States: AL Montgomery AK...  \n",
       " 3                vteUnited States state-related lists  \n",
       " 4   List of states and territories of the United S...  \n",
       " 5   Population African American Amish Asian Birth ...  \n",
       " 6   Billionaires Budgets Companies Credit ratings ...  \n",
       " 7   Botanical gardens Carbon dioxide emissions Par...  \n",
       " 8   Area Bays Beaches Coastline Elevation Extreme ...  \n",
       " 9   Agriculture commissioners Attorneys general Ca...  \n",
       " 10  Fertility rates Hospitals Human Development In...  \n",
       " 11  Date of statehood Name etymologies Historical ...  \n",
       " 12  Abortion Age of consent Alcohol Dry communitie...  \n",
       " 13  Abbreviations Airports Bus transit systems Cas...  \n",
       " 14                         Category  Commons  Portals  \n",
       " 15    vteLocation of the capital of the United States  \n",
       " 16  Philadelphia (1776; 1777; 1778–1783; 1791–1800...  \n",
       " 17                      Washington, D.C. (since 1800)  ,\n",
       "     vteCapitals of the United States by jurisdiction  \\\n",
       " 0  Nation: US Washington States: AL Montgomery AK...   \n",
       " \n",
       "   vteCapitals of the United States by jurisdiction.1  \n",
       " 0  Nation: US Washington States: AL Montgomery AK...  ,\n",
       "                  vteUnited States state-related lists  \\\n",
       " 0   List of states and territories of the United S...   \n",
       " 1                                        Demographics   \n",
       " 2                                             Economy   \n",
       " 3                                         Environment   \n",
       " 4                                           Geography   \n",
       " 5                                          Government   \n",
       " 6                                              Health   \n",
       " 7                                             History   \n",
       " 8                                                 Law   \n",
       " 9                                       Miscellaneous   \n",
       " 10                         Category  Commons  Portals   \n",
       " \n",
       "                vteUnited States state-related lists.1  \n",
       " 0   List of states and territories of the United S...  \n",
       " 1   Population African American Amish Asian Birth ...  \n",
       " 2   Billionaires Budgets Companies Credit ratings ...  \n",
       " 3   Botanical gardens Carbon dioxide emissions Par...  \n",
       " 4   Area Bays Beaches Coastline Elevation Extreme ...  \n",
       " 5   Agriculture commissioners Attorneys general Ca...  \n",
       " 6   Fertility rates Hospitals Human Development In...  \n",
       " 7   Date of statehood Name etymologies Historical ...  \n",
       " 8   Abortion Age of consent Alcohol Dry communitie...  \n",
       " 9   Abbreviations Airports Bus transit systems Cas...  \n",
       " 10                         Category  Commons  Portals  ,\n",
       "   vteLocation of the capital of the United States  \\\n",
       " 0                              Temporary capitals   \n",
       " 1                               Permanent capital   \n",
       " \n",
       "    vteLocation of the capital of the United States.1  \n",
       " 0  Philadelphia (1776; 1777; 1778–1783; 1791–1800...  \n",
       " 1                      Washington, D.C. (since 1800)  ]"
      ]
     },
     "execution_count": 3,
     "metadata": {},
     "output_type": "execute_result"
    }
   ],
   "source": [
    "tables = pd.read_html(url)\n",
    "tables"
   ]
  },
  {
   "cell_type": "markdown",
   "metadata": {
    "slideshow": {
     "slide_type": "subslide"
    }
   },
   "source": [
    "What we get in return is a list of dataframes for any tabular data that Pandas found."
   ]
  },
  {
   "cell_type": "code",
   "execution_count": 4,
   "metadata": {
    "slideshow": {
     "slide_type": "fragment"
    }
   },
   "outputs": [
    {
     "data": {
      "text/plain": [
       "list"
      ]
     },
     "execution_count": 4,
     "metadata": {},
     "output_type": "execute_result"
    }
   ],
   "source": [
    "type(tables)"
   ]
  },
  {
   "cell_type": "markdown",
   "metadata": {
    "slideshow": {
     "slide_type": "subslide"
    }
   },
   "source": [
    "We can slice off any of those dataframes that we want using normal indexing."
   ]
  },
  {
   "cell_type": "code",
   "execution_count": 5,
   "metadata": {
    "slideshow": {
     "slide_type": "fragment"
    }
   },
   "outputs": [
    {
     "data": {
      "text/html": [
       "<div>\n",
       "<style scoped>\n",
       "    .dataframe tbody tr th:only-of-type {\n",
       "        vertical-align: middle;\n",
       "    }\n",
       "\n",
       "    .dataframe tbody tr th {\n",
       "        vertical-align: top;\n",
       "    }\n",
       "\n",
       "    .dataframe thead th {\n",
       "        text-align: right;\n",
       "    }\n",
       "</style>\n",
       "<table border=\"1\" class=\"dataframe\">\n",
       "  <thead>\n",
       "    <tr style=\"text-align: right;\">\n",
       "      <th></th>\n",
       "      <th>State</th>\n",
       "      <th>Abr.</th>\n",
       "      <th>State-hood Rank</th>\n",
       "      <th>Capital</th>\n",
       "      <th>Capital Since</th>\n",
       "      <th>Area (sq-mi)</th>\n",
       "      <th>Municipal Population</th>\n",
       "      <th>Metropolitan</th>\n",
       "      <th>Metropolitan Population</th>\n",
       "      <th>Population Rank</th>\n",
       "      <th>Notes</th>\n",
       "    </tr>\n",
       "  </thead>\n",
       "  <tbody>\n",
       "    <tr>\n",
       "      <th>0</th>\n",
       "      <td>State</td>\n",
       "      <td>Abr.</td>\n",
       "      <td>State-hood</td>\n",
       "      <td>Capital</td>\n",
       "      <td>Capital since</td>\n",
       "      <td>Area (mi²)</td>\n",
       "      <td>Population (2010)</td>\n",
       "      <td>Notes</td>\n",
       "      <td>NaN</td>\n",
       "      <td>NaN</td>\n",
       "      <td>NaN</td>\n",
       "    </tr>\n",
       "    <tr>\n",
       "      <th>1</th>\n",
       "      <td>Municipal (Within city proper boundaries)</td>\n",
       "      <td>Metropolitan (Both within the capital city pro...</td>\n",
       "      <td>Rank in state</td>\n",
       "      <td>Rank in US</td>\n",
       "      <td>NaN</td>\n",
       "      <td>NaN</td>\n",
       "      <td>NaN</td>\n",
       "      <td>NaN</td>\n",
       "      <td>NaN</td>\n",
       "      <td>NaN</td>\n",
       "      <td>NaN</td>\n",
       "    </tr>\n",
       "    <tr>\n",
       "      <th>2</th>\n",
       "      <td>Alabama</td>\n",
       "      <td>AL</td>\n",
       "      <td>1819</td>\n",
       "      <td>Montgomery</td>\n",
       "      <td>1846</td>\n",
       "      <td>155.4</td>\n",
       "      <td>205764</td>\n",
       "      <td>374536</td>\n",
       "      <td>2.0</td>\n",
       "      <td>115.0</td>\n",
       "      <td>Birmingham is the state's largest city.</td>\n",
       "    </tr>\n",
       "    <tr>\n",
       "      <th>3</th>\n",
       "      <td>Alaska</td>\n",
       "      <td>AK</td>\n",
       "      <td>1959</td>\n",
       "      <td>Juneau</td>\n",
       "      <td>1906</td>\n",
       "      <td>2716.7</td>\n",
       "      <td>31275</td>\n",
       "      <td>NaN</td>\n",
       "      <td>3.0</td>\n",
       "      <td>NaN</td>\n",
       "      <td>Largest capital by municipal land area. Anchor...</td>\n",
       "    </tr>\n",
       "    <tr>\n",
       "      <th>4</th>\n",
       "      <td>Arizona</td>\n",
       "      <td>AZ</td>\n",
       "      <td>1912</td>\n",
       "      <td>Phoenix</td>\n",
       "      <td>1889</td>\n",
       "      <td>474.9</td>\n",
       "      <td>1445632</td>\n",
       "      <td>4192887</td>\n",
       "      <td>1.0</td>\n",
       "      <td>5.0</td>\n",
       "      <td>Most populous U.S. state capital and the only ...</td>\n",
       "    </tr>\n",
       "  </tbody>\n",
       "</table>\n",
       "</div>"
      ],
      "text/plain": [
       "                                       State  \\\n",
       "0                                      State   \n",
       "1  Municipal (Within city proper boundaries)   \n",
       "2                                    Alabama   \n",
       "3                                     Alaska   \n",
       "4                                    Arizona   \n",
       "\n",
       "                                                Abr. State-hood Rank  \\\n",
       "0                                               Abr.      State-hood   \n",
       "1  Metropolitan (Both within the capital city pro...   Rank in state   \n",
       "2                                                 AL            1819   \n",
       "3                                                 AK            1959   \n",
       "4                                                 AZ            1912   \n",
       "\n",
       "      Capital  Capital Since Area (sq-mi) Municipal Population Metropolitan  \\\n",
       "0     Capital  Capital since   Area (mi²)    Population (2010)        Notes   \n",
       "1  Rank in US            NaN          NaN                  NaN          NaN   \n",
       "2  Montgomery           1846        155.4               205764       374536   \n",
       "3      Juneau           1906       2716.7                31275          NaN   \n",
       "4     Phoenix           1889        474.9              1445632      4192887   \n",
       "\n",
       "   Metropolitan Population  Population Rank  \\\n",
       "0                      NaN              NaN   \n",
       "1                      NaN              NaN   \n",
       "2                      2.0            115.0   \n",
       "3                      3.0              NaN   \n",
       "4                      1.0              5.0   \n",
       "\n",
       "                                               Notes  \n",
       "0                                                NaN  \n",
       "1                                                NaN  \n",
       "2            Birmingham is the state's largest city.  \n",
       "3  Largest capital by municipal land area. Anchor...  \n",
       "4  Most populous U.S. state capital and the only ...  "
      ]
     },
     "execution_count": 5,
     "metadata": {},
     "output_type": "execute_result"
    }
   ],
   "source": [
    "df = tables[0]\n",
    "df.columns = ['State', 'Abr.', 'State-hood Rank', 'Capital', \n",
    "              'Capital Since', 'Area (sq-mi)', 'Municipal Population', 'Metropolitan', \n",
    "              'Metropolitan Population', 'Population Rank', 'Notes']\n",
    "df.head()"
   ]
  },
  {
   "cell_type": "markdown",
   "metadata": {
    "slideshow": {
     "slide_type": "subslide"
    }
   },
   "source": [
    "Cleanup of extra rows"
   ]
  },
  {
   "cell_type": "code",
   "execution_count": 6,
   "metadata": {
    "slideshow": {
     "slide_type": "fragment"
    }
   },
   "outputs": [
    {
     "data": {
      "text/html": [
       "<div>\n",
       "<style scoped>\n",
       "    .dataframe tbody tr th:only-of-type {\n",
       "        vertical-align: middle;\n",
       "    }\n",
       "\n",
       "    .dataframe tbody tr th {\n",
       "        vertical-align: top;\n",
       "    }\n",
       "\n",
       "    .dataframe thead th {\n",
       "        text-align: right;\n",
       "    }\n",
       "</style>\n",
       "<table border=\"1\" class=\"dataframe\">\n",
       "  <thead>\n",
       "    <tr style=\"text-align: right;\">\n",
       "      <th></th>\n",
       "      <th>State</th>\n",
       "      <th>Abr.</th>\n",
       "      <th>State-hood Rank</th>\n",
       "      <th>Capital</th>\n",
       "      <th>Capital Since</th>\n",
       "      <th>Area (sq-mi)</th>\n",
       "      <th>Municipal Population</th>\n",
       "      <th>Metropolitan</th>\n",
       "      <th>Metropolitan Population</th>\n",
       "      <th>Population Rank</th>\n",
       "      <th>Notes</th>\n",
       "    </tr>\n",
       "  </thead>\n",
       "  <tbody>\n",
       "    <tr>\n",
       "      <th>2</th>\n",
       "      <td>Alabama</td>\n",
       "      <td>AL</td>\n",
       "      <td>1819</td>\n",
       "      <td>Montgomery</td>\n",
       "      <td>1846</td>\n",
       "      <td>155.4</td>\n",
       "      <td>205764</td>\n",
       "      <td>374536</td>\n",
       "      <td>2.0</td>\n",
       "      <td>115.0</td>\n",
       "      <td>Birmingham is the state's largest city.</td>\n",
       "    </tr>\n",
       "    <tr>\n",
       "      <th>3</th>\n",
       "      <td>Alaska</td>\n",
       "      <td>AK</td>\n",
       "      <td>1959</td>\n",
       "      <td>Juneau</td>\n",
       "      <td>1906</td>\n",
       "      <td>2716.7</td>\n",
       "      <td>31275</td>\n",
       "      <td>NaN</td>\n",
       "      <td>3.0</td>\n",
       "      <td>NaN</td>\n",
       "      <td>Largest capital by municipal land area. Anchor...</td>\n",
       "    </tr>\n",
       "    <tr>\n",
       "      <th>4</th>\n",
       "      <td>Arizona</td>\n",
       "      <td>AZ</td>\n",
       "      <td>1912</td>\n",
       "      <td>Phoenix</td>\n",
       "      <td>1889</td>\n",
       "      <td>474.9</td>\n",
       "      <td>1445632</td>\n",
       "      <td>4192887</td>\n",
       "      <td>1.0</td>\n",
       "      <td>5.0</td>\n",
       "      <td>Most populous U.S. state capital and the only ...</td>\n",
       "    </tr>\n",
       "    <tr>\n",
       "      <th>5</th>\n",
       "      <td>Arkansas</td>\n",
       "      <td>AR</td>\n",
       "      <td>1836</td>\n",
       "      <td>Little Rock</td>\n",
       "      <td>1821</td>\n",
       "      <td>116.2</td>\n",
       "      <td>193524</td>\n",
       "      <td>877091</td>\n",
       "      <td>1.0</td>\n",
       "      <td>117.0</td>\n",
       "      <td>NaN</td>\n",
       "    </tr>\n",
       "    <tr>\n",
       "      <th>6</th>\n",
       "      <td>California</td>\n",
       "      <td>CA</td>\n",
       "      <td>1850</td>\n",
       "      <td>Sacramento</td>\n",
       "      <td>1854</td>\n",
       "      <td>97.2</td>\n",
       "      <td>466488</td>\n",
       "      <td>2527123</td>\n",
       "      <td>6.0</td>\n",
       "      <td>35.0</td>\n",
       "      <td>Supreme Court of California is headquartered i...</td>\n",
       "    </tr>\n",
       "  </tbody>\n",
       "</table>\n",
       "</div>"
      ],
      "text/plain": [
       "        State Abr. State-hood Rank      Capital Capital Since Area (sq-mi)  \\\n",
       "2     Alabama   AL            1819   Montgomery          1846        155.4   \n",
       "3      Alaska   AK            1959       Juneau          1906       2716.7   \n",
       "4     Arizona   AZ            1912      Phoenix          1889        474.9   \n",
       "5    Arkansas   AR            1836  Little Rock          1821        116.2   \n",
       "6  California   CA            1850   Sacramento          1854         97.2   \n",
       "\n",
       "  Municipal Population Metropolitan  Metropolitan Population  Population Rank  \\\n",
       "2               205764       374536                      2.0            115.0   \n",
       "3                31275          NaN                      3.0              NaN   \n",
       "4              1445632      4192887                      1.0              5.0   \n",
       "5               193524       877091                      1.0            117.0   \n",
       "6               466488      2527123                      6.0             35.0   \n",
       "\n",
       "                                               Notes  \n",
       "2            Birmingham is the state's largest city.  \n",
       "3  Largest capital by municipal land area. Anchor...  \n",
       "4  Most populous U.S. state capital and the only ...  \n",
       "5                                                NaN  \n",
       "6  Supreme Court of California is headquartered i...  "
      ]
     },
     "execution_count": 6,
     "metadata": {},
     "output_type": "execute_result"
    }
   ],
   "source": [
    "df = df.iloc[2:]\n",
    "df.head()"
   ]
  },
  {
   "cell_type": "markdown",
   "metadata": {
    "slideshow": {
     "slide_type": "subslide"
    }
   },
   "source": [
    "Set the index to the `State` column"
   ]
  },
  {
   "cell_type": "code",
   "execution_count": 7,
   "metadata": {
    "slideshow": {
     "slide_type": "fragment"
    }
   },
   "outputs": [
    {
     "data": {
      "text/html": [
       "<div>\n",
       "<style scoped>\n",
       "    .dataframe tbody tr th:only-of-type {\n",
       "        vertical-align: middle;\n",
       "    }\n",
       "\n",
       "    .dataframe tbody tr th {\n",
       "        vertical-align: top;\n",
       "    }\n",
       "\n",
       "    .dataframe thead th {\n",
       "        text-align: right;\n",
       "    }\n",
       "</style>\n",
       "<table border=\"1\" class=\"dataframe\">\n",
       "  <thead>\n",
       "    <tr style=\"text-align: right;\">\n",
       "      <th></th>\n",
       "      <th>Abr.</th>\n",
       "      <th>State-hood Rank</th>\n",
       "      <th>Capital</th>\n",
       "      <th>Capital Since</th>\n",
       "      <th>Area (sq-mi)</th>\n",
       "      <th>Municipal Population</th>\n",
       "      <th>Metropolitan</th>\n",
       "      <th>Metropolitan Population</th>\n",
       "      <th>Population Rank</th>\n",
       "      <th>Notes</th>\n",
       "    </tr>\n",
       "    <tr>\n",
       "      <th>State</th>\n",
       "      <th></th>\n",
       "      <th></th>\n",
       "      <th></th>\n",
       "      <th></th>\n",
       "      <th></th>\n",
       "      <th></th>\n",
       "      <th></th>\n",
       "      <th></th>\n",
       "      <th></th>\n",
       "      <th></th>\n",
       "    </tr>\n",
       "  </thead>\n",
       "  <tbody>\n",
       "    <tr>\n",
       "      <th>Alabama</th>\n",
       "      <td>AL</td>\n",
       "      <td>1819</td>\n",
       "      <td>Montgomery</td>\n",
       "      <td>1846</td>\n",
       "      <td>155.4</td>\n",
       "      <td>205764</td>\n",
       "      <td>374536</td>\n",
       "      <td>2.0</td>\n",
       "      <td>115.0</td>\n",
       "      <td>Birmingham is the state's largest city.</td>\n",
       "    </tr>\n",
       "    <tr>\n",
       "      <th>Alaska</th>\n",
       "      <td>AK</td>\n",
       "      <td>1959</td>\n",
       "      <td>Juneau</td>\n",
       "      <td>1906</td>\n",
       "      <td>2716.7</td>\n",
       "      <td>31275</td>\n",
       "      <td>NaN</td>\n",
       "      <td>3.0</td>\n",
       "      <td>NaN</td>\n",
       "      <td>Largest capital by municipal land area. Anchor...</td>\n",
       "    </tr>\n",
       "    <tr>\n",
       "      <th>Arizona</th>\n",
       "      <td>AZ</td>\n",
       "      <td>1912</td>\n",
       "      <td>Phoenix</td>\n",
       "      <td>1889</td>\n",
       "      <td>474.9</td>\n",
       "      <td>1445632</td>\n",
       "      <td>4192887</td>\n",
       "      <td>1.0</td>\n",
       "      <td>5.0</td>\n",
       "      <td>Most populous U.S. state capital and the only ...</td>\n",
       "    </tr>\n",
       "    <tr>\n",
       "      <th>Arkansas</th>\n",
       "      <td>AR</td>\n",
       "      <td>1836</td>\n",
       "      <td>Little Rock</td>\n",
       "      <td>1821</td>\n",
       "      <td>116.2</td>\n",
       "      <td>193524</td>\n",
       "      <td>877091</td>\n",
       "      <td>1.0</td>\n",
       "      <td>117.0</td>\n",
       "      <td>NaN</td>\n",
       "    </tr>\n",
       "    <tr>\n",
       "      <th>California</th>\n",
       "      <td>CA</td>\n",
       "      <td>1850</td>\n",
       "      <td>Sacramento</td>\n",
       "      <td>1854</td>\n",
       "      <td>97.2</td>\n",
       "      <td>466488</td>\n",
       "      <td>2527123</td>\n",
       "      <td>6.0</td>\n",
       "      <td>35.0</td>\n",
       "      <td>Supreme Court of California is headquartered i...</td>\n",
       "    </tr>\n",
       "  </tbody>\n",
       "</table>\n",
       "</div>"
      ],
      "text/plain": [
       "           Abr. State-hood Rank      Capital Capital Since Area (sq-mi)  \\\n",
       "State                                                                     \n",
       "Alabama      AL            1819   Montgomery          1846        155.4   \n",
       "Alaska       AK            1959       Juneau          1906       2716.7   \n",
       "Arizona      AZ            1912      Phoenix          1889        474.9   \n",
       "Arkansas     AR            1836  Little Rock          1821        116.2   \n",
       "California   CA            1850   Sacramento          1854         97.2   \n",
       "\n",
       "           Municipal Population Metropolitan  Metropolitan Population  \\\n",
       "State                                                                   \n",
       "Alabama                  205764       374536                      2.0   \n",
       "Alaska                    31275          NaN                      3.0   \n",
       "Arizona                 1445632      4192887                      1.0   \n",
       "Arkansas                 193524       877091                      1.0   \n",
       "California               466488      2527123                      6.0   \n",
       "\n",
       "            Population Rank                                              Notes  \n",
       "State                                                                           \n",
       "Alabama               115.0            Birmingham is the state's largest city.  \n",
       "Alaska                  NaN  Largest capital by municipal land area. Anchor...  \n",
       "Arizona                 5.0  Most populous U.S. state capital and the only ...  \n",
       "Arkansas              117.0                                                NaN  \n",
       "California             35.0  Supreme Court of California is headquartered i...  "
      ]
     },
     "execution_count": 7,
     "metadata": {},
     "output_type": "execute_result"
    }
   ],
   "source": [
    "df.set_index('State', inplace=True)\n",
    "df.head()"
   ]
  },
  {
   "cell_type": "code",
   "execution_count": 8,
   "metadata": {
    "slideshow": {
     "slide_type": "subslide"
    }
   },
   "outputs": [
    {
     "data": {
      "text/plain": [
       "Abr.                                                            AL\n",
       "State-hood Rank                                               1819\n",
       "Capital                                                 Montgomery\n",
       "Capital Since                                                 1846\n",
       "Area (sq-mi)                                                 155.4\n",
       "Municipal Population                                        205764\n",
       "Metropolitan                                                374536\n",
       "Metropolitan Population                                          2\n",
       "Population Rank                                                115\n",
       "Notes                      Birmingham is the state's largest city.\n",
       "Name: Alabama, dtype: object"
      ]
     },
     "execution_count": 8,
     "metadata": {},
     "output_type": "execute_result"
    }
   ],
   "source": [
    "df.loc['Alabama']"
   ]
  },
  {
   "cell_type": "markdown",
   "metadata": {
    "slideshow": {
     "slide_type": "slide"
    }
   },
   "source": [
    "## DataFrames as HTML"
   ]
  },
  {
   "cell_type": "markdown",
   "metadata": {
    "slideshow": {
     "slide_type": "subslide"
    }
   },
   "source": [
    "Pandas also had a `to_html` method that we can use to generate HTML tables from DataFrames."
   ]
  },
  {
   "cell_type": "code",
   "execution_count": 9,
   "metadata": {
    "slideshow": {
     "slide_type": "fragment"
    }
   },
   "outputs": [
    {
     "data": {
      "text/plain": [
       "'<table border=\"1\" class=\"dataframe\">\\n  <thead>\\n    <tr style=\"text-align: right;\">\\n      <th></th>\\n      <th>Abr.</th>\\n      <th>State-hood Rank</th>\\n      <th>Capital</th>\\n      <th>Capital Since</th>\\n      <th>Area (sq-mi)</th>\\n      <th>Municipal Population</th>\\n      <th>Metropolitan</th>\\n      <th>Metropolitan Population</th>\\n      <th>Population Rank</th>\\n      <th>Notes</th>\\n    </tr>\\n    <tr>\\n      <th>State</th>\\n      <th></th>\\n      <th></th>\\n      <th></th>\\n      <th></th>\\n      <th></th>\\n      <th></th>\\n      <th></th>\\n      <th></th>\\n      <th></th>\\n      <th></th>\\n    </tr>\\n  </thead>\\n  <tbody>\\n    <tr>\\n      <th>Alabama</th>\\n      <td>AL</td>\\n      <td>1819</td>\\n      <td>Montgomery</td>\\n      <td>1846</td>\\n      <td>155.4</td>\\n      <td>205764</td>\\n      <td>374536</td>\\n      <td>2.0</td>\\n      <td>115.0</td>\\n      <td>Birmingham is the state\\'s largest city.</td>\\n    </tr>\\n    <tr>\\n      <th>Alaska</th>\\n      <td>AK</td>\\n      <td>1959</td>\\n      <td>Juneau</td>\\n      <td>1906</td>\\n      <td>2716.7</td>\\n      <td>31275</td>\\n      <td>NaN</td>\\n      <td>3.0</td>\\n      <td>NaN</td>\\n      <td>Largest capital by municipal land area. Anchor...</td>\\n    </tr>\\n    <tr>\\n      <th>Arizona</th>\\n      <td>AZ</td>\\n      <td>1912</td>\\n      <td>Phoenix</td>\\n      <td>1889</td>\\n      <td>474.9</td>\\n      <td>1445632</td>\\n      <td>4192887</td>\\n      <td>1.0</td>\\n      <td>5.0</td>\\n      <td>Most populous U.S. state capital and the only ...</td>\\n    </tr>\\n    <tr>\\n      <th>Arkansas</th>\\n      <td>AR</td>\\n      <td>1836</td>\\n      <td>Little Rock</td>\\n      <td>1821</td>\\n      <td>116.2</td>\\n      <td>193524</td>\\n      <td>877091</td>\\n      <td>1.0</td>\\n      <td>117.0</td>\\n      <td>NaN</td>\\n    </tr>\\n    <tr>\\n      <th>California</th>\\n      <td>CA</td>\\n      <td>1850</td>\\n      <td>Sacramento</td>\\n      <td>1854</td>\\n      <td>97.2</td>\\n      <td>466488</td>\\n      <td>2527123</td>\\n      <td>6.0</td>\\n      <td>35.0</td>\\n      <td>Supreme Court of California is headquartered i...</td>\\n    </tr>\\n    <tr>\\n      <th>Colorado</th>\\n      <td>CO</td>\\n      <td>1876</td>\\n      <td>Denver</td>\\n      <td>1867</td>\\n      <td>153.4</td>\\n      <td>600158</td>\\n      <td>2552195</td>\\n      <td>1.0</td>\\n      <td>19.0</td>\\n      <td>Denver was called Denver City until 1882.</td>\\n    </tr>\\n    <tr>\\n      <th>Connecticut</th>\\n      <td>CT</td>\\n      <td>1788</td>\\n      <td>Hartford</td>\\n      <td>1875</td>\\n      <td>17.3</td>\\n      <td>124775</td>\\n      <td>1212381</td>\\n      <td>3.0</td>\\n      <td>221.0</td>\\n      <td>Bridgeport is the state\\'s largest city. Hartfo...</td>\\n    </tr>\\n    <tr>\\n      <th>Delaware</th>\\n      <td>DE</td>\\n      <td>1787</td>\\n      <td>Dover</td>\\n      <td>1777</td>\\n      <td>22.4</td>\\n      <td>36047</td>\\n      <td>162310</td>\\n      <td>2.0</td>\\n      <td>NaN</td>\\n      <td>Longest-serving capital in terms of statehood....</td>\\n    </tr>\\n    <tr>\\n      <th>Florida</th>\\n      <td>FL</td>\\n      <td>1845</td>\\n      <td>Tallahassee</td>\\n      <td>1824</td>\\n      <td>95.7</td>\\n      <td>190894</td>\\n      <td>379627</td>\\n      <td>7.0</td>\\n      <td>126.0</td>\\n      <td>Jacksonville is the largest city. Miami is the...</td>\\n    </tr>\\n    <tr>\\n      <th>Georgia</th>\\n      <td>GA</td>\\n      <td>1788</td>\\n      <td>Atlanta</td>\\n      <td>1868</td>\\n      <td>131.7</td>\\n      <td>420003</td>\\n      <td>5789700</td>\\n      <td>1.0</td>\\n      <td>38.0</td>\\n      <td>State capital with the most populous metro are...</td>\\n    </tr>\\n    <tr>\\n      <th>Hawaii</th>\\n      <td>HI</td>\\n      <td>1959</td>\\n      <td>Honolulu</td>\\n      <td>1845</td>\\n      <td>85.7</td>\\n      <td>337256</td>\\n      <td>953207</td>\\n      <td>1.0</td>\\n      <td>55.0</td>\\n      <td>NaN</td>\\n    </tr>\\n    <tr>\\n      <th>Idaho</th>\\n      <td>ID</td>\\n      <td>1890</td>\\n      <td>Boise</td>\\n      <td>1865</td>\\n      <td>63.8</td>\\n      <td>205671</td>\\n      <td>616561</td>\\n      <td>1.0</td>\\n      <td>99.0</td>\\n      <td>NaN</td>\\n    </tr>\\n    <tr>\\n      <th>Illinois</th>\\n      <td>IL</td>\\n      <td>1818</td>\\n      <td>Springfield</td>\\n      <td>1837</td>\\n      <td>54.0</td>\\n      <td>116250</td>\\n      <td>208182</td>\\n      <td>6.0</td>\\n      <td>241.0</td>\\n      <td>Springfield was once home to Abraham Lincoln. ...</td>\\n    </tr>\\n    <tr>\\n      <th>Indiana</th>\\n      <td>IN</td>\\n      <td>1816</td>\\n      <td>Indianapolis</td>\\n      <td>1825</td>\\n      <td>361.5</td>\\n      <td>829718</td>\\n      <td>1756221</td>\\n      <td>1.0</td>\\n      <td>15.0</td>\\n      <td>NaN</td>\\n    </tr>\\n    <tr>\\n      <th>Iowa</th>\\n      <td>IA</td>\\n      <td>1846</td>\\n      <td>Des Moines</td>\\n      <td>1857</td>\\n      <td>75.8</td>\\n      <td>203433</td>\\n      <td>580255</td>\\n      <td>1.0</td>\\n      <td>102.0</td>\\n      <td>NaN</td>\\n    </tr>\\n    <tr>\\n      <th>Kansas</th>\\n      <td>KS</td>\\n      <td>1861</td>\\n      <td>Topeka</td>\\n      <td>1856</td>\\n      <td>56.0</td>\\n      <td>127473</td>\\n      <td>230824</td>\\n      <td>4.0</td>\\n      <td>217.0</td>\\n      <td>Wichita is the state\\'s largest city.</td>\\n    </tr>\\n    <tr>\\n      <th>Kentucky</th>\\n      <td>KY</td>\\n      <td>1792</td>\\n      <td>Frankfort</td>\\n      <td>1792</td>\\n      <td>14.7</td>\\n      <td>25527</td>\\n      <td>70758</td>\\n      <td>14.0</td>\\n      <td>NaN</td>\\n      <td>Louisville is the state\\'s largest city.</td>\\n    </tr>\\n    <tr>\\n      <th>Louisiana</th>\\n      <td>LA</td>\\n      <td>1812</td>\\n      <td>Baton Rouge</td>\\n      <td>1880</td>\\n      <td>76.8</td>\\n      <td>229553</td>\\n      <td>802484</td>\\n      <td>2.0</td>\\n      <td>97.0</td>\\n      <td>New Orleans is the state\\'s largest city and ho...</td>\\n    </tr>\\n    <tr>\\n      <th>Maine</th>\\n      <td>ME</td>\\n      <td>1820</td>\\n      <td>Augusta</td>\\n      <td>1832</td>\\n      <td>55.4</td>\\n      <td>19136</td>\\n      <td>117114</td>\\n      <td>8.0</td>\\n      <td>NaN</td>\\n      <td>Portland is the state\\'s largest city and previ...</td>\\n    </tr>\\n    <tr>\\n      <th>Maryland</th>\\n      <td>MD</td>\\n      <td>1788</td>\\n      <td>Annapolis</td>\\n      <td>1694</td>\\n      <td>6.73</td>\\n      <td>38394</td>\\n      <td>NaN</td>\\n      <td>7.0</td>\\n      <td>NaN</td>\\n      <td>Smallest capital by land area. Baltimore is th...</td>\\n    </tr>\\n    <tr>\\n      <th>Massachusetts</th>\\n      <td>MA</td>\\n      <td>1788</td>\\n      <td>Boston</td>\\n      <td>1630</td>\\n      <td>48.4</td>\\n      <td>617594</td>\\n      <td>4522858</td>\\n      <td>1.0</td>\\n      <td>22.0</td>\\n      <td>Longest continuously serving capital in the U.S.</td>\\n    </tr>\\n    <tr>\\n      <th>Michigan</th>\\n      <td>MI</td>\\n      <td>1837</td>\\n      <td>Lansing</td>\\n      <td>1847</td>\\n      <td>35.0</td>\\n      <td>114297</td>\\n      <td>464036</td>\\n      <td>5.0</td>\\n      <td>239.0</td>\\n      <td>Only state capital that is not also its county...</td>\\n    </tr>\\n    <tr>\\n      <th>Minnesota</th>\\n      <td>MN</td>\\n      <td>1858</td>\\n      <td>Saint Paul</td>\\n      <td>1849</td>\\n      <td>52.8</td>\\n      <td>300851</td>\\n      <td>3502891</td>\\n      <td>2.0</td>\\n      <td>64.0</td>\\n      <td>Capital\\'s twin city, Minneapolis, is the state...</td>\\n    </tr>\\n    <tr>\\n      <th>Mississippi</th>\\n      <td>MS</td>\\n      <td>1817</td>\\n      <td>Jackson</td>\\n      <td>1821</td>\\n      <td>104.9</td>\\n      <td>173514</td>\\n      <td>539057</td>\\n      <td>1.0</td>\\n      <td>149.0</td>\\n      <td>Only state capital that shares its status as c...</td>\\n    </tr>\\n    <tr>\\n      <th>Missouri</th>\\n      <td>MO</td>\\n      <td>1821</td>\\n      <td>Jefferson City</td>\\n      <td>1826</td>\\n      <td>27.3</td>\\n      <td>43079</td>\\n      <td>149807</td>\\n      <td>15.0</td>\\n      <td>NaN</td>\\n      <td>Kansas City is the state\\'s largest city, and G...</td>\\n    </tr>\\n    <tr>\\n      <th>Montana</th>\\n      <td>MT</td>\\n      <td>1889</td>\\n      <td>Helena</td>\\n      <td>1875</td>\\n      <td>14.0</td>\\n      <td>28190</td>\\n      <td>74801</td>\\n      <td>6.0</td>\\n      <td>NaN</td>\\n      <td>Billings is the state\\'s largest city.</td>\\n    </tr>\\n    <tr>\\n      <th>Nebraska</th>\\n      <td>NE</td>\\n      <td>1867</td>\\n      <td>Lincoln</td>\\n      <td>1867</td>\\n      <td>74.6</td>\\n      <td>258379</td>\\n      <td>302157</td>\\n      <td>2.0</td>\\n      <td>71.0</td>\\n      <td>Omaha is the state\\'s largest city. It shares t...</td>\\n    </tr>\\n    <tr>\\n      <th>Nevada</th>\\n      <td>NV</td>\\n      <td>1864</td>\\n      <td>Carson City</td>\\n      <td>1861</td>\\n      <td>143.4</td>\\n      <td>55274</td>\\n      <td>NaN</td>\\n      <td>6.0</td>\\n      <td>NaN</td>\\n      <td>One of two independent cities that serves as a...</td>\\n    </tr>\\n    <tr>\\n      <th>New Hampshire</th>\\n      <td>NH</td>\\n      <td>1788</td>\\n      <td>Concord</td>\\n      <td>1808</td>\\n      <td>64.3</td>\\n      <td>42695</td>\\n      <td>NaN</td>\\n      <td>3.0</td>\\n      <td>NaN</td>\\n      <td>Manchester is the state\\'s largest city.</td>\\n    </tr>\\n    <tr>\\n      <th>New Jersey</th>\\n      <td>NJ</td>\\n      <td>1787</td>\\n      <td>Trenton</td>\\n      <td>1784</td>\\n      <td>7.66</td>\\n      <td>84913</td>\\n      <td>366513</td>\\n      <td>10.0</td>\\n      <td>NaN</td>\\n      <td>Served as the U.S. capital for a short period ...</td>\\n    </tr>\\n    <tr>\\n      <th>New Mexico</th>\\n      <td>NM</td>\\n      <td>1912</td>\\n      <td>Santa Fe</td>\\n      <td>1610</td>\\n      <td>37.3</td>\\n      <td>75764</td>\\n      <td>183732</td>\\n      <td>4.0</td>\\n      <td>NaN</td>\\n      <td>Longest serving capital in the United States. ...</td>\\n    </tr>\\n    <tr>\\n      <th>New York</th>\\n      <td>NY</td>\\n      <td>1788</td>\\n      <td>Albany</td>\\n      <td>1797</td>\\n      <td>21.4</td>\\n      <td>97856</td>\\n      <td>857592</td>\\n      <td>6.0</td>\\n      <td>NaN</td>\\n      <td>New York City is the state\\'s largest city.</td>\\n    </tr>\\n    <tr>\\n      <th>North Carolina</th>\\n      <td>NC</td>\\n      <td>1789</td>\\n      <td>Raleigh</td>\\n      <td>1792</td>\\n      <td>114.6</td>\\n      <td>403892</td>\\n      <td>1130490</td>\\n      <td>2.0</td>\\n      <td>41.0</td>\\n      <td>Charlotte is the state\\'s largest city.</td>\\n    </tr>\\n    <tr>\\n      <th>North Dakota</th>\\n      <td>ND</td>\\n      <td>1889</td>\\n      <td>Bismarck</td>\\n      <td>1883</td>\\n      <td>26.9</td>\\n      <td>61272</td>\\n      <td>108779</td>\\n      <td>2.0</td>\\n      <td>NaN</td>\\n      <td>Fargo is the state\\'s largest city.</td>\\n    </tr>\\n    <tr>\\n      <th>Ohio</th>\\n      <td>OH</td>\\n      <td>1803</td>\\n      <td>Columbus</td>\\n      <td>1816</td>\\n      <td>210.3</td>\\n      <td>822553</td>\\n      <td>1967066</td>\\n      <td>1.0</td>\\n      <td>14.0</td>\\n      <td>Third-largest state capital; however, the Cinc...</td>\\n    </tr>\\n    <tr>\\n      <th>Oklahoma</th>\\n      <td>OK</td>\\n      <td>1907</td>\\n      <td>Oklahoma City</td>\\n      <td>1910</td>\\n      <td>607.0</td>\\n      <td>580000</td>\\n      <td>1252987</td>\\n      <td>1.0</td>\\n      <td>27.0</td>\\n      <td>Shortest serving current state capital.</td>\\n    </tr>\\n    <tr>\\n      <th>Oregon</th>\\n      <td>OR</td>\\n      <td>1859</td>\\n      <td>Salem</td>\\n      <td>1855</td>\\n      <td>45.7</td>\\n      <td>154637</td>\\n      <td>390738</td>\\n      <td>3.0</td>\\n      <td>151.0</td>\\n      <td>Portland is the state\\'s largest city.</td>\\n    </tr>\\n    <tr>\\n      <th>Pennsylvania</th>\\n      <td>PA</td>\\n      <td>1787</td>\\n      <td>Harrisburg</td>\\n      <td>1812</td>\\n      <td>8.11</td>\\n      <td>49528</td>\\n      <td>647390</td>\\n      <td>9.0</td>\\n      <td>NaN</td>\\n      <td>Philadelphia is the state\\'s largest city.</td>\\n    </tr>\\n    <tr>\\n      <th>Rhode Island</th>\\n      <td>RI</td>\\n      <td>1790</td>\\n      <td>Providence</td>\\n      <td>1900</td>\\n      <td>18.5</td>\\n      <td>178042</td>\\n      <td>1630956</td>\\n      <td>1.0</td>\\n      <td>137.0</td>\\n      <td>Also served as the state\\'s capital from 1636–1...</td>\\n    </tr>\\n    <tr>\\n      <th>South Carolina</th>\\n      <td>SC</td>\\n      <td>1788</td>\\n      <td>Columbia</td>\\n      <td>1786</td>\\n      <td>125.2</td>\\n      <td>131686</td>\\n      <td>913797</td>\\n      <td>2.0</td>\\n      <td>199.0</td>\\n      <td>Charleston is the state\\'s largest city, while ...</td>\\n    </tr>\\n    <tr>\\n      <th>South Dakota</th>\\n      <td>SD</td>\\n      <td>1889</td>\\n      <td>Pierre</td>\\n      <td>1889</td>\\n      <td>13.0</td>\\n      <td>13646</td>\\n      <td>NaN</td>\\n      <td>8.0</td>\\n      <td>NaN</td>\\n      <td>Sioux Falls is the state\\'s largest city.</td>\\n    </tr>\\n    <tr>\\n      <th>Tennessee</th>\\n      <td>TN</td>\\n      <td>1796</td>\\n      <td>Nashville</td>\\n      <td>1826</td>\\n      <td>473.3</td>\\n      <td>635710</td>\\n      <td>1582264</td>\\n      <td>1.0</td>\\n      <td>24.0</td>\\n      <td>NaN</td>\\n    </tr>\\n    <tr>\\n      <th>Texas</th>\\n      <td>TX</td>\\n      <td>1845</td>\\n      <td>Austin</td>\\n      <td>1839</td>\\n      <td>251.5</td>\\n      <td>790390</td>\\n      <td>1716291</td>\\n      <td>4.0</td>\\n      <td>11.0</td>\\n      <td>Houston is the state\\'s largest city and the pr...</td>\\n    </tr>\\n    <tr>\\n      <th>Utah</th>\\n      <td>UT</td>\\n      <td>1896</td>\\n      <td>Salt Lake City</td>\\n      <td>1858</td>\\n      <td>109.1</td>\\n      <td>186440</td>\\n      <td>1124197</td>\\n      <td>1.0</td>\\n      <td>123.0</td>\\n      <td>NaN</td>\\n    </tr>\\n    <tr>\\n      <th>Vermont</th>\\n      <td>VT</td>\\n      <td>1791</td>\\n      <td>Montpelier</td>\\n      <td>1805</td>\\n      <td>10.2</td>\\n      <td>7855</td>\\n      <td>NaN</td>\\n      <td>6.0</td>\\n      <td>NaN</td>\\n      <td>Least populous U.S. state capital. Burlington ...</td>\\n    </tr>\\n    <tr>\\n      <th>Virginia</th>\\n      <td>VA</td>\\n      <td>1788</td>\\n      <td>Richmond</td>\\n      <td>1780</td>\\n      <td>60.1</td>\\n      <td>204214</td>\\n      <td>1231675</td>\\n      <td>4.0</td>\\n      <td>98.0</td>\\n      <td>Virginia Beach and Norfolk are the state\\'s lar...</td>\\n    </tr>\\n    <tr>\\n      <th>Washington</th>\\n      <td>WA</td>\\n      <td>1889</td>\\n      <td>Olympia</td>\\n      <td>1853</td>\\n      <td>16.7</td>\\n      <td>46478</td>\\n      <td>234670</td>\\n      <td>24.0</td>\\n      <td>NaN</td>\\n      <td>Seattle is the state\\'s largest city.</td>\\n    </tr>\\n    <tr>\\n      <th>West Virginia</th>\\n      <td>WV</td>\\n      <td>1863</td>\\n      <td>Charleston</td>\\n      <td>1885</td>\\n      <td>31.6</td>\\n      <td>51400</td>\\n      <td>304214</td>\\n      <td>1.0</td>\\n      <td>NaN</td>\\n      <td>Charleston is the smallest capital city that i...</td>\\n    </tr>\\n    <tr>\\n      <th>Wisconsin</th>\\n      <td>WI</td>\\n      <td>1848</td>\\n      <td>Madison</td>\\n      <td>1838</td>\\n      <td>68.7</td>\\n      <td>233209</td>\\n      <td>561505</td>\\n      <td>2.0</td>\\n      <td>82.0</td>\\n      <td>Milwaukee is the state\\'s largest city.</td>\\n    </tr>\\n    <tr>\\n      <th>Wyoming</th>\\n      <td>WY</td>\\n      <td>1890</td>\\n      <td>Cheyenne</td>\\n      <td>1869</td>\\n      <td>21.1</td>\\n      <td>59466</td>\\n      <td>91738</td>\\n      <td>1.0</td>\\n      <td>NaN</td>\\n      <td>NaN</td>\\n    </tr>\\n  </tbody>\\n</table>'"
      ]
     },
     "execution_count": 9,
     "metadata": {},
     "output_type": "execute_result"
    }
   ],
   "source": [
    "html_table = df.to_html()\n",
    "html_table"
   ]
  },
  {
   "cell_type": "markdown",
   "metadata": {
    "slideshow": {
     "slide_type": "subslide"
    }
   },
   "source": [
    "You may have to strip unwanted newlines to clean up the table."
   ]
  },
  {
   "cell_type": "code",
   "execution_count": 10,
   "metadata": {
    "slideshow": {
     "slide_type": "fragment"
    }
   },
   "outputs": [
    {
     "data": {
      "text/plain": [
       "'<table border=\"1\" class=\"dataframe\">  <thead>    <tr style=\"text-align: right;\">      <th></th>      <th>Abr.</th>      <th>State-hood Rank</th>      <th>Capital</th>      <th>Capital Since</th>      <th>Area (sq-mi)</th>      <th>Municipal Population</th>      <th>Metropolitan</th>      <th>Metropolitan Population</th>      <th>Population Rank</th>      <th>Notes</th>    </tr>    <tr>      <th>State</th>      <th></th>      <th></th>      <th></th>      <th></th>      <th></th>      <th></th>      <th></th>      <th></th>      <th></th>      <th></th>    </tr>  </thead>  <tbody>    <tr>      <th>Alabama</th>      <td>AL</td>      <td>1819</td>      <td>Montgomery</td>      <td>1846</td>      <td>155.4</td>      <td>205764</td>      <td>374536</td>      <td>2.0</td>      <td>115.0</td>      <td>Birmingham is the state\\'s largest city.</td>    </tr>    <tr>      <th>Alaska</th>      <td>AK</td>      <td>1959</td>      <td>Juneau</td>      <td>1906</td>      <td>2716.7</td>      <td>31275</td>      <td>NaN</td>      <td>3.0</td>      <td>NaN</td>      <td>Largest capital by municipal land area. Anchor...</td>    </tr>    <tr>      <th>Arizona</th>      <td>AZ</td>      <td>1912</td>      <td>Phoenix</td>      <td>1889</td>      <td>474.9</td>      <td>1445632</td>      <td>4192887</td>      <td>1.0</td>      <td>5.0</td>      <td>Most populous U.S. state capital and the only ...</td>    </tr>    <tr>      <th>Arkansas</th>      <td>AR</td>      <td>1836</td>      <td>Little Rock</td>      <td>1821</td>      <td>116.2</td>      <td>193524</td>      <td>877091</td>      <td>1.0</td>      <td>117.0</td>      <td>NaN</td>    </tr>    <tr>      <th>California</th>      <td>CA</td>      <td>1850</td>      <td>Sacramento</td>      <td>1854</td>      <td>97.2</td>      <td>466488</td>      <td>2527123</td>      <td>6.0</td>      <td>35.0</td>      <td>Supreme Court of California is headquartered i...</td>    </tr>    <tr>      <th>Colorado</th>      <td>CO</td>      <td>1876</td>      <td>Denver</td>      <td>1867</td>      <td>153.4</td>      <td>600158</td>      <td>2552195</td>      <td>1.0</td>      <td>19.0</td>      <td>Denver was called Denver City until 1882.</td>    </tr>    <tr>      <th>Connecticut</th>      <td>CT</td>      <td>1788</td>      <td>Hartford</td>      <td>1875</td>      <td>17.3</td>      <td>124775</td>      <td>1212381</td>      <td>3.0</td>      <td>221.0</td>      <td>Bridgeport is the state\\'s largest city. Hartfo...</td>    </tr>    <tr>      <th>Delaware</th>      <td>DE</td>      <td>1787</td>      <td>Dover</td>      <td>1777</td>      <td>22.4</td>      <td>36047</td>      <td>162310</td>      <td>2.0</td>      <td>NaN</td>      <td>Longest-serving capital in terms of statehood....</td>    </tr>    <tr>      <th>Florida</th>      <td>FL</td>      <td>1845</td>      <td>Tallahassee</td>      <td>1824</td>      <td>95.7</td>      <td>190894</td>      <td>379627</td>      <td>7.0</td>      <td>126.0</td>      <td>Jacksonville is the largest city. Miami is the...</td>    </tr>    <tr>      <th>Georgia</th>      <td>GA</td>      <td>1788</td>      <td>Atlanta</td>      <td>1868</td>      <td>131.7</td>      <td>420003</td>      <td>5789700</td>      <td>1.0</td>      <td>38.0</td>      <td>State capital with the most populous metro are...</td>    </tr>    <tr>      <th>Hawaii</th>      <td>HI</td>      <td>1959</td>      <td>Honolulu</td>      <td>1845</td>      <td>85.7</td>      <td>337256</td>      <td>953207</td>      <td>1.0</td>      <td>55.0</td>      <td>NaN</td>    </tr>    <tr>      <th>Idaho</th>      <td>ID</td>      <td>1890</td>      <td>Boise</td>      <td>1865</td>      <td>63.8</td>      <td>205671</td>      <td>616561</td>      <td>1.0</td>      <td>99.0</td>      <td>NaN</td>    </tr>    <tr>      <th>Illinois</th>      <td>IL</td>      <td>1818</td>      <td>Springfield</td>      <td>1837</td>      <td>54.0</td>      <td>116250</td>      <td>208182</td>      <td>6.0</td>      <td>241.0</td>      <td>Springfield was once home to Abraham Lincoln. ...</td>    </tr>    <tr>      <th>Indiana</th>      <td>IN</td>      <td>1816</td>      <td>Indianapolis</td>      <td>1825</td>      <td>361.5</td>      <td>829718</td>      <td>1756221</td>      <td>1.0</td>      <td>15.0</td>      <td>NaN</td>    </tr>    <tr>      <th>Iowa</th>      <td>IA</td>      <td>1846</td>      <td>Des Moines</td>      <td>1857</td>      <td>75.8</td>      <td>203433</td>      <td>580255</td>      <td>1.0</td>      <td>102.0</td>      <td>NaN</td>    </tr>    <tr>      <th>Kansas</th>      <td>KS</td>      <td>1861</td>      <td>Topeka</td>      <td>1856</td>      <td>56.0</td>      <td>127473</td>      <td>230824</td>      <td>4.0</td>      <td>217.0</td>      <td>Wichita is the state\\'s largest city.</td>    </tr>    <tr>      <th>Kentucky</th>      <td>KY</td>      <td>1792</td>      <td>Frankfort</td>      <td>1792</td>      <td>14.7</td>      <td>25527</td>      <td>70758</td>      <td>14.0</td>      <td>NaN</td>      <td>Louisville is the state\\'s largest city.</td>    </tr>    <tr>      <th>Louisiana</th>      <td>LA</td>      <td>1812</td>      <td>Baton Rouge</td>      <td>1880</td>      <td>76.8</td>      <td>229553</td>      <td>802484</td>      <td>2.0</td>      <td>97.0</td>      <td>New Orleans is the state\\'s largest city and ho...</td>    </tr>    <tr>      <th>Maine</th>      <td>ME</td>      <td>1820</td>      <td>Augusta</td>      <td>1832</td>      <td>55.4</td>      <td>19136</td>      <td>117114</td>      <td>8.0</td>      <td>NaN</td>      <td>Portland is the state\\'s largest city and previ...</td>    </tr>    <tr>      <th>Maryland</th>      <td>MD</td>      <td>1788</td>      <td>Annapolis</td>      <td>1694</td>      <td>6.73</td>      <td>38394</td>      <td>NaN</td>      <td>7.0</td>      <td>NaN</td>      <td>Smallest capital by land area. Baltimore is th...</td>    </tr>    <tr>      <th>Massachusetts</th>      <td>MA</td>      <td>1788</td>      <td>Boston</td>      <td>1630</td>      <td>48.4</td>      <td>617594</td>      <td>4522858</td>      <td>1.0</td>      <td>22.0</td>      <td>Longest continuously serving capital in the U.S.</td>    </tr>    <tr>      <th>Michigan</th>      <td>MI</td>      <td>1837</td>      <td>Lansing</td>      <td>1847</td>      <td>35.0</td>      <td>114297</td>      <td>464036</td>      <td>5.0</td>      <td>239.0</td>      <td>Only state capital that is not also its county...</td>    </tr>    <tr>      <th>Minnesota</th>      <td>MN</td>      <td>1858</td>      <td>Saint Paul</td>      <td>1849</td>      <td>52.8</td>      <td>300851</td>      <td>3502891</td>      <td>2.0</td>      <td>64.0</td>      <td>Capital\\'s twin city, Minneapolis, is the state...</td>    </tr>    <tr>      <th>Mississippi</th>      <td>MS</td>      <td>1817</td>      <td>Jackson</td>      <td>1821</td>      <td>104.9</td>      <td>173514</td>      <td>539057</td>      <td>1.0</td>      <td>149.0</td>      <td>Only state capital that shares its status as c...</td>    </tr>    <tr>      <th>Missouri</th>      <td>MO</td>      <td>1821</td>      <td>Jefferson City</td>      <td>1826</td>      <td>27.3</td>      <td>43079</td>      <td>149807</td>      <td>15.0</td>      <td>NaN</td>      <td>Kansas City is the state\\'s largest city, and G...</td>    </tr>    <tr>      <th>Montana</th>      <td>MT</td>      <td>1889</td>      <td>Helena</td>      <td>1875</td>      <td>14.0</td>      <td>28190</td>      <td>74801</td>      <td>6.0</td>      <td>NaN</td>      <td>Billings is the state\\'s largest city.</td>    </tr>    <tr>      <th>Nebraska</th>      <td>NE</td>      <td>1867</td>      <td>Lincoln</td>      <td>1867</td>      <td>74.6</td>      <td>258379</td>      <td>302157</td>      <td>2.0</td>      <td>71.0</td>      <td>Omaha is the state\\'s largest city. It shares t...</td>    </tr>    <tr>      <th>Nevada</th>      <td>NV</td>      <td>1864</td>      <td>Carson City</td>      <td>1861</td>      <td>143.4</td>      <td>55274</td>      <td>NaN</td>      <td>6.0</td>      <td>NaN</td>      <td>One of two independent cities that serves as a...</td>    </tr>    <tr>      <th>New Hampshire</th>      <td>NH</td>      <td>1788</td>      <td>Concord</td>      <td>1808</td>      <td>64.3</td>      <td>42695</td>      <td>NaN</td>      <td>3.0</td>      <td>NaN</td>      <td>Manchester is the state\\'s largest city.</td>    </tr>    <tr>      <th>New Jersey</th>      <td>NJ</td>      <td>1787</td>      <td>Trenton</td>      <td>1784</td>      <td>7.66</td>      <td>84913</td>      <td>366513</td>      <td>10.0</td>      <td>NaN</td>      <td>Served as the U.S. capital for a short period ...</td>    </tr>    <tr>      <th>New Mexico</th>      <td>NM</td>      <td>1912</td>      <td>Santa Fe</td>      <td>1610</td>      <td>37.3</td>      <td>75764</td>      <td>183732</td>      <td>4.0</td>      <td>NaN</td>      <td>Longest serving capital in the United States. ...</td>    </tr>    <tr>      <th>New York</th>      <td>NY</td>      <td>1788</td>      <td>Albany</td>      <td>1797</td>      <td>21.4</td>      <td>97856</td>      <td>857592</td>      <td>6.0</td>      <td>NaN</td>      <td>New York City is the state\\'s largest city.</td>    </tr>    <tr>      <th>North Carolina</th>      <td>NC</td>      <td>1789</td>      <td>Raleigh</td>      <td>1792</td>      <td>114.6</td>      <td>403892</td>      <td>1130490</td>      <td>2.0</td>      <td>41.0</td>      <td>Charlotte is the state\\'s largest city.</td>    </tr>    <tr>      <th>North Dakota</th>      <td>ND</td>      <td>1889</td>      <td>Bismarck</td>      <td>1883</td>      <td>26.9</td>      <td>61272</td>      <td>108779</td>      <td>2.0</td>      <td>NaN</td>      <td>Fargo is the state\\'s largest city.</td>    </tr>    <tr>      <th>Ohio</th>      <td>OH</td>      <td>1803</td>      <td>Columbus</td>      <td>1816</td>      <td>210.3</td>      <td>822553</td>      <td>1967066</td>      <td>1.0</td>      <td>14.0</td>      <td>Third-largest state capital; however, the Cinc...</td>    </tr>    <tr>      <th>Oklahoma</th>      <td>OK</td>      <td>1907</td>      <td>Oklahoma City</td>      <td>1910</td>      <td>607.0</td>      <td>580000</td>      <td>1252987</td>      <td>1.0</td>      <td>27.0</td>      <td>Shortest serving current state capital.</td>    </tr>    <tr>      <th>Oregon</th>      <td>OR</td>      <td>1859</td>      <td>Salem</td>      <td>1855</td>      <td>45.7</td>      <td>154637</td>      <td>390738</td>      <td>3.0</td>      <td>151.0</td>      <td>Portland is the state\\'s largest city.</td>    </tr>    <tr>      <th>Pennsylvania</th>      <td>PA</td>      <td>1787</td>      <td>Harrisburg</td>      <td>1812</td>      <td>8.11</td>      <td>49528</td>      <td>647390</td>      <td>9.0</td>      <td>NaN</td>      <td>Philadelphia is the state\\'s largest city.</td>    </tr>    <tr>      <th>Rhode Island</th>      <td>RI</td>      <td>1790</td>      <td>Providence</td>      <td>1900</td>      <td>18.5</td>      <td>178042</td>      <td>1630956</td>      <td>1.0</td>      <td>137.0</td>      <td>Also served as the state\\'s capital from 1636–1...</td>    </tr>    <tr>      <th>South Carolina</th>      <td>SC</td>      <td>1788</td>      <td>Columbia</td>      <td>1786</td>      <td>125.2</td>      <td>131686</td>      <td>913797</td>      <td>2.0</td>      <td>199.0</td>      <td>Charleston is the state\\'s largest city, while ...</td>    </tr>    <tr>      <th>South Dakota</th>      <td>SD</td>      <td>1889</td>      <td>Pierre</td>      <td>1889</td>      <td>13.0</td>      <td>13646</td>      <td>NaN</td>      <td>8.0</td>      <td>NaN</td>      <td>Sioux Falls is the state\\'s largest city.</td>    </tr>    <tr>      <th>Tennessee</th>      <td>TN</td>      <td>1796</td>      <td>Nashville</td>      <td>1826</td>      <td>473.3</td>      <td>635710</td>      <td>1582264</td>      <td>1.0</td>      <td>24.0</td>      <td>NaN</td>    </tr>    <tr>      <th>Texas</th>      <td>TX</td>      <td>1845</td>      <td>Austin</td>      <td>1839</td>      <td>251.5</td>      <td>790390</td>      <td>1716291</td>      <td>4.0</td>      <td>11.0</td>      <td>Houston is the state\\'s largest city and the pr...</td>    </tr>    <tr>      <th>Utah</th>      <td>UT</td>      <td>1896</td>      <td>Salt Lake City</td>      <td>1858</td>      <td>109.1</td>      <td>186440</td>      <td>1124197</td>      <td>1.0</td>      <td>123.0</td>      <td>NaN</td>    </tr>    <tr>      <th>Vermont</th>      <td>VT</td>      <td>1791</td>      <td>Montpelier</td>      <td>1805</td>      <td>10.2</td>      <td>7855</td>      <td>NaN</td>      <td>6.0</td>      <td>NaN</td>      <td>Least populous U.S. state capital. Burlington ...</td>    </tr>    <tr>      <th>Virginia</th>      <td>VA</td>      <td>1788</td>      <td>Richmond</td>      <td>1780</td>      <td>60.1</td>      <td>204214</td>      <td>1231675</td>      <td>4.0</td>      <td>98.0</td>      <td>Virginia Beach and Norfolk are the state\\'s lar...</td>    </tr>    <tr>      <th>Washington</th>      <td>WA</td>      <td>1889</td>      <td>Olympia</td>      <td>1853</td>      <td>16.7</td>      <td>46478</td>      <td>234670</td>      <td>24.0</td>      <td>NaN</td>      <td>Seattle is the state\\'s largest city.</td>    </tr>    <tr>      <th>West Virginia</th>      <td>WV</td>      <td>1863</td>      <td>Charleston</td>      <td>1885</td>      <td>31.6</td>      <td>51400</td>      <td>304214</td>      <td>1.0</td>      <td>NaN</td>      <td>Charleston is the smallest capital city that i...</td>    </tr>    <tr>      <th>Wisconsin</th>      <td>WI</td>      <td>1848</td>      <td>Madison</td>      <td>1838</td>      <td>68.7</td>      <td>233209</td>      <td>561505</td>      <td>2.0</td>      <td>82.0</td>      <td>Milwaukee is the state\\'s largest city.</td>    </tr>    <tr>      <th>Wyoming</th>      <td>WY</td>      <td>1890</td>      <td>Cheyenne</td>      <td>1869</td>      <td>21.1</td>      <td>59466</td>      <td>91738</td>      <td>1.0</td>      <td>NaN</td>      <td>NaN</td>    </tr>  </tbody></table>'"
      ]
     },
     "execution_count": 10,
     "metadata": {},
     "output_type": "execute_result"
    }
   ],
   "source": [
    "html_table.replace('\\n', '')"
   ]
  },
  {
   "cell_type": "markdown",
   "metadata": {
    "slideshow": {
     "slide_type": "subslide"
    }
   },
   "source": [
    "You can also save the table directly to a file."
   ]
  },
  {
   "cell_type": "code",
   "execution_count": 11,
   "metadata": {
    "collapsed": true,
    "slideshow": {
     "slide_type": "fragment"
    }
   },
   "outputs": [],
   "source": [
    "df.to_html('table.html')"
   ]
  },
  {
   "cell_type": "code",
   "execution_count": 12,
   "metadata": {
    "collapsed": true,
    "slideshow": {
     "slide_type": "fragment"
    }
   },
   "outputs": [],
   "source": [
    "# OSX Users can run this to open the file in a browser, \n",
    "# or you can manually find the file and open it in the browser\n",
    "!open table.html"
   ]
  }
 ],
 "metadata": {
  "celltoolbar": "Slideshow",
  "kernelspec": {
   "display_name": "Python 3",
   "language": "python",
   "name": "python3"
  },
  "language_info": {
   "codemirror_mode": {
    "name": "ipython",
    "version": 3
   },
   "file_extension": ".py",
   "mimetype": "text/x-python",
   "name": "python",
   "nbconvert_exporter": "python",
   "pygments_lexer": "ipython3",
   "version": "3.7.3"
  },
  "varInspector": {
   "cols": {
    "lenName": 16,
    "lenType": 16,
    "lenVar": 40
   },
   "kernels_config": {
    "python": {
     "delete_cmd_postfix": "",
     "delete_cmd_prefix": "del ",
     "library": "var_list.py",
     "varRefreshCmd": "print(var_dic_list())"
    },
    "r": {
     "delete_cmd_postfix": ") ",
     "delete_cmd_prefix": "rm(",
     "library": "var_list.r",
     "varRefreshCmd": "cat(var_dic_list()) "
    }
   },
   "types_to_exclude": [
    "module",
    "function",
    "builtin_function_or_method",
    "instance",
    "_Feature"
   ],
   "window_display": false
  }
 },
 "nbformat": 4,
 "nbformat_minor": 2
}
