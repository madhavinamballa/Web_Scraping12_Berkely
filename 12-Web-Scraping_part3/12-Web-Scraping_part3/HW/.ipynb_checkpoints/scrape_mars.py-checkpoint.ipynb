{
 "cells": [
  {
   "cell_type": "code",
   "execution_count": 2,
   "metadata": {},
   "outputs": [],
   "source": [
    "from splinter import Browser\n",
    "from bs4 import BeautifulSoup\n",
    "import time\n",
    "\n",
    "\n",
    "def init_browser():\n",
    "    # @NOTE: Replace the path with your actual path to the chromedriver\n",
    "    executable_path = {\"executable_path\": \"/usr/local/bin/chromedriver\"}\n",
    "    return Browser(\"chrome\", **executable_path, headless=False)\n",
    "\n",
    "\n",
    "def scrape():\n",
    "    browser = init_browser()\n",
    "    mars_data = {}\n",
    "    mars_news_url = \"https://raleigh.craigslist.org/search/hhh?max_price=1500&availabilityMode=0\"\n",
    "    mars_image_url='https://www.jpl.nasa.gov/spaceimages/?search=&category=Mars'\n",
    "    mars_weather_url=\"https://twitter.com/marswxreport?lang=en\"\n",
    "    mars_facts_url='https://space-facts.com/mars/'\n",
    "    mars_hemisphere_url='https://astrogeology.usgs.gov/search/results?q=hemisphere+enhanced&k1=target&v1=Mars'\n",
    "    #============================\n",
    "    browser.visit(mars_news_url)\n",
    "    time.sleep(1)\n",
    "    html = browser.html\n",
    "    soup = bs(html, \"html.parser\")\n",
    "    news_title=soup.find_all('div',class_='content_title')[0].find('a').text\n",
    "    news_paragraph=soup.find_all('div',class_='article_teaser_body')[0].text\n",
    "    news_paragraph=soup.find_all('div',class_='article_teaser_body')[0].text\n",
    "    mars_data.append({\"tiltle\":news_title,\"paragraph\":news_paragraph})\n",
    "    #==================================\n",
    "    browser.visit(mars_image_url)\n",
    "    time.sleep(1)\n",
    "    html = browser.html\n",
    "    soup = bs(html, \"html.parser\")\n",
    "    #=============================\n",
    "    browser.visit(mars_weather_url)\n",
    "    time.sleep(1)\n",
    "    html = browser.html\n",
    "    soup = bs(html, \"html.parser\")\n",
    "    Mars_latest_Weather=soup.find_all('div',class_='js-tweet-text-container')[0].find('p').text\n",
    "    mars_data.append({\"latest_weather\": Mars_latest_Weather})\n",
    "    #================================\n",
    "    browser.visit(mars_facts_url)\n",
    "    time.sleep(1)\n",
    "    html = browser.html\n",
    "    soup = bs(html, \"html.parser\")\n",
    "    #=================================\n",
    "    browser.visit(mars_hemisphere_url)\n",
    "    time.sleep(1)\n",
    "    html = browser.html\n",
    "    soup = bs(html, \"html.parser\")\n",
    "    return mars_data\n"
   ]
  },
  {
   "cell_type": "code",
   "execution_count": null,
   "metadata": {},
   "outputs": [],
   "source": []
  }
 ],
 "metadata": {
  "kernelspec": {
   "display_name": "Python 3",
   "language": "python",
   "name": "python3"
  },
  "language_info": {
   "codemirror_mode": {
    "name": "ipython",
    "version": 3
   },
   "file_extension": ".py",
   "mimetype": "text/x-python",
   "name": "python",
   "nbconvert_exporter": "python",
   "pygments_lexer": "ipython3",
   "version": "3.7.3"
  }
 },
 "nbformat": 4,
 "nbformat_minor": 2
}
